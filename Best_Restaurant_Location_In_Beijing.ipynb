{
 "cells": [
  {
   "cell_type": "markdown",
   "metadata": {},
   "source": [
    "# Find the Best Location for a  Restaurant in Beijing"
   ]
  },
  {
   "cell_type": "markdown",
   "metadata": {},
   "source": [
    "## Introduction"
   ]
  },
  {
   "cell_type": "markdown",
   "metadata": {},
   "source": [
    "### In this project I will try to find the best location for a restaurant in Beijing. Specifically, this report will be targeted to stakeholders interested in opening a Japanese restaurant in Beijing, China.\n",
    "\n",
    "### Since there are lots of restaurants in Beijing we will try to detect areas that are not already crowded with restaurants. We are also particularly interested in areas with no Japanese restaurants in vicinity. With the first two conditions met, we would prefer locations as close to downtown as possible.\n",
    "\n",
    "### We will use our data science powers to generate a few most promising neighborhoods based on the criteria above. Advantages of each area will then be listed so that the stakeholders can choose the best location from the options to open a restaurant."
   ]
  }
 ],
 "metadata": {
  "kernelspec": {
   "display_name": "Python 3",
   "language": "python",
   "name": "python3"
  },
  "language_info": {
   "codemirror_mode": {
    "name": "ipython",
    "version": 3
   },
   "file_extension": ".py",
   "mimetype": "text/x-python",
   "name": "python",
   "nbconvert_exporter": "python",
   "pygments_lexer": "ipython3",
   "version": "3.6.8"
  }
 },
 "nbformat": 4,
 "nbformat_minor": 2
}
